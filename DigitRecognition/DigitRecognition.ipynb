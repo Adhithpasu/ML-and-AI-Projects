{
  "nbformat": 4,
  "nbformat_minor": 0,
  "metadata": {
    "colab": {
      "provenance": []
    },
    "kernelspec": {
      "name": "python3",
      "display_name": "Python 3"
    },
    "language_info": {
      "name": "python"
    }
  },
  "cells": [
    {
      "cell_type": "code",
      "execution_count": 1,
      "metadata": {
        "id": "h2zvY46Qr1tq"
      },
      "outputs": [],
      "source": [
        "import tensorflow as tf\n",
        "import numpy as np\n",
        "import pandas as pd\n",
        "from tensorflow import keras\n",
        "from keras import layers\n",
        "from sklearn.model_selection import train_test_split\n",
        "import matplotlib.pyplot as plt\n",
        "\n",
        "\n",
        "model = keras.Sequential([\n",
        "    tf.keras.Input(shape=(784,)),\n",
        "    layers.Dense(units=128, activation=\"relu\"),\n",
        "    layers.Dropout(0.2),\n",
        "    layers.Dense(units=128, activation=\"relu\"),\n",
        "    layers.Dropout(0.2),\n",
        "    layers.Dense(units=128, activation=\"relu\"),\n",
        "    layers.Dropout(0.2),\n",
        "    layers.Dense(units=128, activation=\"relu\"),\n",
        "    layers.Dropout(0.2),\n",
        "    layers.Dense(units=10, activation=\"softmax\")\n",
        "])\n",
        "df = pd.read_csv(\"train.csv\")\n",
        "X = df.drop(\"label\", axis=1)\n",
        "y = df[\"label\"]\n",
        "X = X/255.0\n",
        "X_train, X_test, Y_train, Y_test = train_test_split(X, y, test_size=0.2, random_state=42)\n",
        "\n",
        "#model.summary()\n",
        "Y_train = tf.keras.utils.to_categorical(Y_train, num_classes=10)\n",
        "Y_test = tf.keras.utils.to_categorical(Y_test, num_classes=10)\n",
        "\n",
        "\n",
        "\n"
      ]
    },
    {
      "cell_type": "code",
      "source": [
        "model.compile(\n",
        "    loss=tf.keras.losses.CategoricalCrossentropy(),\n",
        "    optimizer = tf.keras.optimizers.Adam(learning_rate=0.0001),\n",
        "    metrics=['accuracy']\n",
        ")\n",
        "model.fit(\n",
        "    X_train,\n",
        "    Y_train,\n",
        "    validation_data=(X_test, Y_test),\n",
        "    batch_size=32,\n",
        "    epochs=45\n",
        ")"
      ],
      "metadata": {
        "colab": {
          "base_uri": "https://localhost:8080/"
        },
        "id": "iU7hvgTAZZMo",
        "outputId": "23541357-c9ae-4602-910c-8e1b272d9421"
      },
      "execution_count": 2,
      "outputs": [
        {
          "output_type": "stream",
          "name": "stdout",
          "text": [
            "Epoch 1/45\n",
            "\u001b[1m1050/1050\u001b[0m \u001b[32m━━━━━━━━━━━━━━━━━━━━\u001b[0m\u001b[37m\u001b[0m \u001b[1m11s\u001b[0m 8ms/step - accuracy: 0.4322 - loss: 1.6292 - val_accuracy: 0.8863 - val_loss: 0.3937\n",
            "Epoch 2/45\n",
            "\u001b[1m1050/1050\u001b[0m \u001b[32m━━━━━━━━━━━━━━━━━━━━\u001b[0m\u001b[37m\u001b[0m \u001b[1m9s\u001b[0m 7ms/step - accuracy: 0.8402 - loss: 0.5162 - val_accuracy: 0.9177 - val_loss: 0.2737\n",
            "Epoch 3/45\n",
            "\u001b[1m1050/1050\u001b[0m \u001b[32m━━━━━━━━━━━━━━━━━━━━\u001b[0m\u001b[37m\u001b[0m \u001b[1m8s\u001b[0m 7ms/step - accuracy: 0.8928 - loss: 0.3654 - val_accuracy: 0.9320 - val_loss: 0.2258\n",
            "Epoch 4/45\n",
            "\u001b[1m1050/1050\u001b[0m \u001b[32m━━━━━━━━━━━━━━━━━━━━\u001b[0m\u001b[37m\u001b[0m \u001b[1m7s\u001b[0m 7ms/step - accuracy: 0.9097 - loss: 0.3008 - val_accuracy: 0.9420 - val_loss: 0.1947\n",
            "Epoch 5/45\n",
            "\u001b[1m1050/1050\u001b[0m \u001b[32m━━━━━━━━━━━━━━━━━━━━\u001b[0m\u001b[37m\u001b[0m \u001b[1m12s\u001b[0m 11ms/step - accuracy: 0.9289 - loss: 0.2358 - val_accuracy: 0.9483 - val_loss: 0.1705\n",
            "Epoch 6/45\n",
            "\u001b[1m1050/1050\u001b[0m \u001b[32m━━━━━━━━━━━━━━━━━━━━\u001b[0m\u001b[37m\u001b[0m \u001b[1m7s\u001b[0m 7ms/step - accuracy: 0.9331 - loss: 0.2215 - val_accuracy: 0.9529 - val_loss: 0.1536\n",
            "Epoch 7/45\n",
            "\u001b[1m1050/1050\u001b[0m \u001b[32m━━━━━━━━━━━━━━━━━━━━\u001b[0m\u001b[37m\u001b[0m \u001b[1m11s\u001b[0m 8ms/step - accuracy: 0.9437 - loss: 0.1915 - val_accuracy: 0.9568 - val_loss: 0.1449\n",
            "Epoch 8/45\n",
            "\u001b[1m1050/1050\u001b[0m \u001b[32m━━━━━━━━━━━━━━━━━━━━\u001b[0m\u001b[37m\u001b[0m \u001b[1m6s\u001b[0m 6ms/step - accuracy: 0.9506 - loss: 0.1702 - val_accuracy: 0.9593 - val_loss: 0.1389\n",
            "Epoch 9/45\n",
            "\u001b[1m1050/1050\u001b[0m \u001b[32m━━━━━━━━━━━━━━━━━━━━\u001b[0m\u001b[37m\u001b[0m \u001b[1m10s\u001b[0m 6ms/step - accuracy: 0.9528 - loss: 0.1610 - val_accuracy: 0.9636 - val_loss: 0.1285\n",
            "Epoch 10/45\n",
            "\u001b[1m1050/1050\u001b[0m \u001b[32m━━━━━━━━━━━━━━━━━━━━\u001b[0m\u001b[37m\u001b[0m \u001b[1m8s\u001b[0m 7ms/step - accuracy: 0.9561 - loss: 0.1454 - val_accuracy: 0.9655 - val_loss: 0.1225\n",
            "Epoch 11/45\n",
            "\u001b[1m1050/1050\u001b[0m \u001b[32m━━━━━━━━━━━━━━━━━━━━\u001b[0m\u001b[37m\u001b[0m \u001b[1m9s\u001b[0m 6ms/step - accuracy: 0.9597 - loss: 0.1353 - val_accuracy: 0.9665 - val_loss: 0.1171\n",
            "Epoch 12/45\n",
            "\u001b[1m1050/1050\u001b[0m \u001b[32m━━━━━━━━━━━━━━━━━━━━\u001b[0m\u001b[37m\u001b[0m \u001b[1m8s\u001b[0m 7ms/step - accuracy: 0.9628 - loss: 0.1242 - val_accuracy: 0.9683 - val_loss: 0.1124\n",
            "Epoch 13/45\n",
            "\u001b[1m1050/1050\u001b[0m \u001b[32m━━━━━━━━━━━━━━━━━━━━\u001b[0m\u001b[37m\u001b[0m \u001b[1m10s\u001b[0m 7ms/step - accuracy: 0.9648 - loss: 0.1176 - val_accuracy: 0.9674 - val_loss: 0.1087\n",
            "Epoch 14/45\n",
            "\u001b[1m1050/1050\u001b[0m \u001b[32m━━━━━━━━━━━━━━━━━━━━\u001b[0m\u001b[37m\u001b[0m \u001b[1m9s\u001b[0m 6ms/step - accuracy: 0.9676 - loss: 0.1065 - val_accuracy: 0.9694 - val_loss: 0.1031\n",
            "Epoch 15/45\n",
            "\u001b[1m1050/1050\u001b[0m \u001b[32m━━━━━━━━━━━━━━━━━━━━\u001b[0m\u001b[37m\u001b[0m \u001b[1m7s\u001b[0m 7ms/step - accuracy: 0.9702 - loss: 0.1014 - val_accuracy: 0.9705 - val_loss: 0.1036\n",
            "Epoch 16/45\n",
            "\u001b[1m1050/1050\u001b[0m \u001b[32m━━━━━━━━━━━━━━━━━━━━\u001b[0m\u001b[37m\u001b[0m \u001b[1m7s\u001b[0m 6ms/step - accuracy: 0.9715 - loss: 0.0899 - val_accuracy: 0.9713 - val_loss: 0.1022\n",
            "Epoch 17/45\n",
            "\u001b[1m1050/1050\u001b[0m \u001b[32m━━━━━━━━━━━━━━━━━━━━\u001b[0m\u001b[37m\u001b[0m \u001b[1m10s\u001b[0m 6ms/step - accuracy: 0.9722 - loss: 0.0905 - val_accuracy: 0.9713 - val_loss: 0.1022\n",
            "Epoch 18/45\n",
            "\u001b[1m1050/1050\u001b[0m \u001b[32m━━━━━━━━━━━━━━━━━━━━\u001b[0m\u001b[37m\u001b[0m \u001b[1m10s\u001b[0m 6ms/step - accuracy: 0.9731 - loss: 0.0864 - val_accuracy: 0.9700 - val_loss: 0.1049\n",
            "Epoch 19/45\n",
            "\u001b[1m1050/1050\u001b[0m \u001b[32m━━━━━━━━━━━━━━━━━━━━\u001b[0m\u001b[37m\u001b[0m \u001b[1m7s\u001b[0m 7ms/step - accuracy: 0.9747 - loss: 0.0802 - val_accuracy: 0.9723 - val_loss: 0.0973\n",
            "Epoch 20/45\n",
            "\u001b[1m1050/1050\u001b[0m \u001b[32m━━━━━━━━━━━━━━━━━━━━\u001b[0m\u001b[37m\u001b[0m \u001b[1m11s\u001b[0m 7ms/step - accuracy: 0.9770 - loss: 0.0750 - val_accuracy: 0.9723 - val_loss: 0.1041\n",
            "Epoch 21/45\n",
            "\u001b[1m1050/1050\u001b[0m \u001b[32m━━━━━━━━━━━━━━━━━━━━\u001b[0m\u001b[37m\u001b[0m \u001b[1m7s\u001b[0m 7ms/step - accuracy: 0.9778 - loss: 0.0722 - val_accuracy: 0.9712 - val_loss: 0.1016\n",
            "Epoch 22/45\n",
            "\u001b[1m1050/1050\u001b[0m \u001b[32m━━━━━━━━━━━━━━━━━━━━\u001b[0m\u001b[37m\u001b[0m \u001b[1m7s\u001b[0m 7ms/step - accuracy: 0.9789 - loss: 0.0675 - val_accuracy: 0.9735 - val_loss: 0.0950\n",
            "Epoch 23/45\n",
            "\u001b[1m1050/1050\u001b[0m \u001b[32m━━━━━━━━━━━━━━━━━━━━\u001b[0m\u001b[37m\u001b[0m \u001b[1m6s\u001b[0m 6ms/step - accuracy: 0.9807 - loss: 0.0663 - val_accuracy: 0.9732 - val_loss: 0.0957\n",
            "Epoch 24/45\n",
            "\u001b[1m1050/1050\u001b[0m \u001b[32m━━━━━━━━━━━━━━━━━━━━\u001b[0m\u001b[37m\u001b[0m \u001b[1m11s\u001b[0m 6ms/step - accuracy: 0.9821 - loss: 0.0581 - val_accuracy: 0.9739 - val_loss: 0.0969\n",
            "Epoch 25/45\n",
            "\u001b[1m1050/1050\u001b[0m \u001b[32m━━━━━━━━━━━━━━━━━━━━\u001b[0m\u001b[37m\u001b[0m \u001b[1m7s\u001b[0m 6ms/step - accuracy: 0.9822 - loss: 0.0555 - val_accuracy: 0.9731 - val_loss: 0.1008\n",
            "Epoch 26/45\n",
            "\u001b[1m1050/1050\u001b[0m \u001b[32m━━━━━━━━━━━━━━━━━━━━\u001b[0m\u001b[37m\u001b[0m \u001b[1m10s\u001b[0m 6ms/step - accuracy: 0.9806 - loss: 0.0599 - val_accuracy: 0.9736 - val_loss: 0.0973\n",
            "Epoch 27/45\n",
            "\u001b[1m1050/1050\u001b[0m \u001b[32m━━━━━━━━━━━━━━━━━━━━\u001b[0m\u001b[37m\u001b[0m \u001b[1m7s\u001b[0m 7ms/step - accuracy: 0.9817 - loss: 0.0578 - val_accuracy: 0.9744 - val_loss: 0.0967\n",
            "Epoch 28/45\n",
            "\u001b[1m1050/1050\u001b[0m \u001b[32m━━━━━━━━━━━━━━━━━━━━\u001b[0m\u001b[37m\u001b[0m \u001b[1m6s\u001b[0m 6ms/step - accuracy: 0.9838 - loss: 0.0510 - val_accuracy: 0.9756 - val_loss: 0.0944\n",
            "Epoch 29/45\n",
            "\u001b[1m1050/1050\u001b[0m \u001b[32m━━━━━━━━━━━━━━━━━━━━\u001b[0m\u001b[37m\u001b[0m \u001b[1m10s\u001b[0m 6ms/step - accuracy: 0.9843 - loss: 0.0512 - val_accuracy: 0.9743 - val_loss: 0.0977\n",
            "Epoch 30/45\n",
            "\u001b[1m1050/1050\u001b[0m \u001b[32m━━━━━━━━━━━━━━━━━━━━\u001b[0m\u001b[37m\u001b[0m \u001b[1m8s\u001b[0m 7ms/step - accuracy: 0.9837 - loss: 0.0525 - val_accuracy: 0.9745 - val_loss: 0.0954\n",
            "Epoch 31/45\n",
            "\u001b[1m1050/1050\u001b[0m \u001b[32m━━━━━━━━━━━━━━━━━━━━\u001b[0m\u001b[37m\u001b[0m \u001b[1m6s\u001b[0m 6ms/step - accuracy: 0.9838 - loss: 0.0502 - val_accuracy: 0.9744 - val_loss: 0.0962\n",
            "Epoch 32/45\n",
            "\u001b[1m1050/1050\u001b[0m \u001b[32m━━━━━━━━━━━━━━━━━━━━\u001b[0m\u001b[37m\u001b[0m \u001b[1m10s\u001b[0m 6ms/step - accuracy: 0.9848 - loss: 0.0487 - val_accuracy: 0.9740 - val_loss: 0.0983\n",
            "Epoch 33/45\n",
            "\u001b[1m1050/1050\u001b[0m \u001b[32m━━━━━━━━━━━━━━━━━━━━\u001b[0m\u001b[37m\u001b[0m \u001b[1m7s\u001b[0m 7ms/step - accuracy: 0.9855 - loss: 0.0448 - val_accuracy: 0.9733 - val_loss: 0.0999\n",
            "Epoch 34/45\n",
            "\u001b[1m1050/1050\u001b[0m \u001b[32m━━━━━━━━━━━━━━━━━━━━\u001b[0m\u001b[37m\u001b[0m \u001b[1m9s\u001b[0m 6ms/step - accuracy: 0.9854 - loss: 0.0420 - val_accuracy: 0.9757 - val_loss: 0.0967\n",
            "Epoch 35/45\n",
            "\u001b[1m1050/1050\u001b[0m \u001b[32m━━━━━━━━━━━━━━━━━━━━\u001b[0m\u001b[37m\u001b[0m \u001b[1m7s\u001b[0m 7ms/step - accuracy: 0.9870 - loss: 0.0416 - val_accuracy: 0.9744 - val_loss: 0.0988\n",
            "Epoch 36/45\n",
            "\u001b[1m1050/1050\u001b[0m \u001b[32m━━━━━━━━━━━━━━━━━━━━\u001b[0m\u001b[37m\u001b[0m \u001b[1m11s\u001b[0m 7ms/step - accuracy: 0.9873 - loss: 0.0379 - val_accuracy: 0.9761 - val_loss: 0.1010\n",
            "Epoch 37/45\n",
            "\u001b[1m1050/1050\u001b[0m \u001b[32m━━━━━━━━━━━━━━━━━━━━\u001b[0m\u001b[37m\u001b[0m \u001b[1m6s\u001b[0m 6ms/step - accuracy: 0.9872 - loss: 0.0400 - val_accuracy: 0.9755 - val_loss: 0.0967\n",
            "Epoch 38/45\n",
            "\u001b[1m1050/1050\u001b[0m \u001b[32m━━━━━━━━━━━━━━━━━━━━\u001b[0m\u001b[37m\u001b[0m \u001b[1m8s\u001b[0m 7ms/step - accuracy: 0.9882 - loss: 0.0361 - val_accuracy: 0.9754 - val_loss: 0.1035\n",
            "Epoch 39/45\n",
            "\u001b[1m1050/1050\u001b[0m \u001b[32m━━━━━━━━━━━━━━━━━━━━\u001b[0m\u001b[37m\u001b[0m \u001b[1m6s\u001b[0m 5ms/step - accuracy: 0.9886 - loss: 0.0368 - val_accuracy: 0.9749 - val_loss: 0.1015\n",
            "Epoch 40/45\n",
            "\u001b[1m1050/1050\u001b[0m \u001b[32m━━━━━━━━━━━━━━━━━━━━\u001b[0m\u001b[37m\u001b[0m \u001b[1m7s\u001b[0m 7ms/step - accuracy: 0.9885 - loss: 0.0350 - val_accuracy: 0.9752 - val_loss: 0.1039\n",
            "Epoch 41/45\n",
            "\u001b[1m1050/1050\u001b[0m \u001b[32m━━━━━━━━━━━━━━━━━━━━\u001b[0m\u001b[37m\u001b[0m \u001b[1m9s\u001b[0m 6ms/step - accuracy: 0.9881 - loss: 0.0352 - val_accuracy: 0.9755 - val_loss: 0.1004\n",
            "Epoch 42/45\n",
            "\u001b[1m1050/1050\u001b[0m \u001b[32m━━━━━━━━━━━━━━━━━━━━\u001b[0m\u001b[37m\u001b[0m \u001b[1m10s\u001b[0m 6ms/step - accuracy: 0.9886 - loss: 0.0347 - val_accuracy: 0.9756 - val_loss: 0.1005\n",
            "Epoch 43/45\n",
            "\u001b[1m1050/1050\u001b[0m \u001b[32m━━━━━━━━━━━━━━━━━━━━\u001b[0m\u001b[37m\u001b[0m \u001b[1m10s\u001b[0m 6ms/step - accuracy: 0.9894 - loss: 0.0314 - val_accuracy: 0.9757 - val_loss: 0.1007\n",
            "Epoch 44/45\n",
            "\u001b[1m1050/1050\u001b[0m \u001b[32m━━━━━━━━━━━━━━━━━━━━\u001b[0m\u001b[37m\u001b[0m \u001b[1m10s\u001b[0m 6ms/step - accuracy: 0.9894 - loss: 0.0301 - val_accuracy: 0.9751 - val_loss: 0.1040\n",
            "Epoch 45/45\n",
            "\u001b[1m1050/1050\u001b[0m \u001b[32m━━━━━━━━━━━━━━━━━━━━\u001b[0m\u001b[37m\u001b[0m \u001b[1m12s\u001b[0m 7ms/step - accuracy: 0.9908 - loss: 0.0280 - val_accuracy: 0.9757 - val_loss: 0.0990\n"
          ]
        },
        {
          "output_type": "execute_result",
          "data": {
            "text/plain": [
              "<keras.src.callbacks.history.History at 0x7ff67b4b4050>"
            ]
          },
          "metadata": {},
          "execution_count": 2
        }
      ]
    },
    {
      "cell_type": "code",
      "source": [
        "import matplotlib.pyplot as plt\n",
        "\n",
        "predictions = model.predict(X_test)\n",
        "predicted_labels = np.argmax(predictions, axis=1)  # Convert softmax output to class labels\n",
        "actual_labels = np.argmax(Y_test, axis=1)  # Convert one-hot encoding back to labels\n",
        "\n",
        "# Select random samples for visualization\n",
        "num_samples = 10\n",
        "random_indices = np.random.choice(len(X_test), num_samples, replace=False)\n",
        "sample_images = X_test.iloc[random_indices].to_numpy().reshape(-1, 28, 28)  # Reshape into 28x28 images\n",
        "sample_predictions = predicted_labels[random_indices]\n",
        "sample_actuals = actual_labels[random_indices]\n",
        "\n",
        "# Plot images with predictions\n",
        "plt.figure(figsize=(12, 5))\n",
        "for i in range(num_samples):\n",
        "    plt.subplot(2, 5, i + 1)\n",
        "    plt.imshow(sample_images[i], cmap=\"gray\")\n",
        "    plt.title(f\"Pred: {sample_predictions[i]}\\nTrue: {sample_actuals[i]}\")\n",
        "    plt.axis(\"off\")\n",
        "\n",
        "plt.tight_layout()\n",
        "plt.show()\n",
        "\n"
      ],
      "metadata": {
        "colab": {
          "base_uri": "https://localhost:8080/",
          "height": 531
        },
        "id": "tVvpi1piZb1O",
        "outputId": "9ccfc78e-e21b-4375-cdd9-1f921e13d6f0"
      },
      "execution_count": null,
      "outputs": [
        {
          "output_type": "stream",
          "name": "stdout",
          "text": [
            "\u001b[1m263/263\u001b[0m \u001b[32m━━━━━━━━━━━━━━━━━━━━\u001b[0m\u001b[37m\u001b[0m \u001b[1m1s\u001b[0m 4ms/step\n"
          ]
        },
        {
          "output_type": "display_data",
          "data": {
            "text/plain": [
              "<Figure size 1200x500 with 10 Axes>"
            ],
            "image/png": "[encoded data removed]"
          },
          "metadata": {}
        }
      ]
    }
  ]
}